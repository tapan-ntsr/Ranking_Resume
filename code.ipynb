{
 "cells": [
  {
   "cell_type": "code",
   "execution_count": 1,
   "metadata": {},
   "outputs": [],
   "source": [
    "import os\n",
    "import textract\n",
    "import docx2txt\n",
    "import pandas as pd\n",
    "import spacy\n",
    "from sklearn.feature_extraction.text import TfidfVectorizer\n",
    "from sklearn.metrics.pairwise import cosine_similarity\n"
   ]
  },
  {
   "cell_type": "code",
   "execution_count": 2,
   "metadata": {},
   "outputs": [
    {
     "name": "stdout",
     "output_type": "stream",
     "text": [
      "Rankings saved to: F:/Resume_Ranking/resume_rankings1.xlsx\n"
     ]
    }
   ],
   "source": [
    "\n",
    "nlp = spacy.load(\"en_core_web_sm\", disable=[\"parser\", \"ner\"])\n",
    "\n",
    "def read_text_from_pdf_or_docx(file_path):\n",
    "    text = \"\"\n",
    "    if file_path.endswith(\".pdf\"):\n",
    "        text = textract.process(file_path).decode('utf-8')\n",
    "    elif file_path.endswith(\".docx\"):\n",
    "        text = docx2txt.process(file_path)\n",
    "    return text\n",
    "\n",
    "def preprocess_text(text):\n",
    "    # Tokenize and lemmatize text using spacy\n",
    "    doc = nlp(text)\n",
    "    lemmatized_text = [token.lemma_ for token in doc if not token.is_stop and token.is_alpha]\n",
    "    return lemmatized_text\n",
    "\n",
    "def rank_resumes(job_description_path, resumes_folder):\n",
    "\n",
    "    with open(job_description_path, 'r') as f:\n",
    "        job_description = f.read()\n",
    "\n",
    "    job_description_tokens = preprocess_text(job_description)\n",
    "\n",
    "  \n",
    "    resumes = []\n",
    "    resume_names = []\n",
    "    for resume_file in os.listdir(resumes_folder):\n",
    "        if resume_file.endswith((\".pdf\", \".docx\")):\n",
    "            resume_path = os.path.join(resumes_folder, resume_file)\n",
    "            resume_text = read_text_from_pdf_or_docx(resume_path)\n",
    "            resume_tokens = preprocess_text(resume_text)\n",
    "            resumes.append(\" \".join(resume_tokens))  \n",
    "            resume_names.append(resume_file)\n",
    "\n",
    "    \n",
    "    vectorizer = TfidfVectorizer(stop_words='english')\n",
    "    job_description_tfidf = vectorizer.fit_transform([\" \".join(job_description_tokens)])\n",
    "    resumes_tfidf = vectorizer.transform(resumes)\n",
    "\n",
    "   \n",
    "    similarity_scores = cosine_similarity(job_description_tfidf, resumes_tfidf)[0]\n",
    "\n",
    "    ranked_resumes = sorted(zip(resume_names, similarity_scores), key=lambda x: x[1], reverse=True)\n",
    "\n",
    "\n",
    "    ranked_resumes_with_ranking = [(resume_name, similarity_score, rank+1) for rank, (resume_name, similarity_score) in enumerate(ranked_resumes)]\n",
    "\n",
    "    return ranked_resumes_with_ranking\n",
    "\n",
    "def save_rankings_to_excel(ranked_resumes, output_excel):\n",
    "    df = pd.DataFrame(ranked_resumes, columns=['Resume_Path', 'Similarity_Score', 'Ranking'])\n",
    "    df.to_excel(output_excel, index=False)\n",
    "\n",
    "if __name__ == \"__main__\":\n",
    "    job_description_path = \"F:/Resume_Ranking/job_description.txt\"\n",
    "    resumes_folder = \"F:/Resume_Ranking/Resumes\"\n",
    "    output_excel = \"F:/Resume_Ranking/resume_rankings1.xlsx\"\n",
    "\n",
    "    ranked_resumes = rank_resumes(job_description_path, resumes_folder)\n",
    "    save_rankings_to_excel(ranked_resumes, output_excel)\n",
    "\n",
    "    print(\"Rankings saved to:\", output_excel)\n"
   ]
  }
 ],
 "metadata": {
  "kernelspec": {
   "display_name": "Python 3",
   "language": "python",
   "name": "python3"
  },
  "language_info": {
   "codemirror_mode": {
    "name": "ipython",
    "version": 3
   },
   "file_extension": ".py",
   "mimetype": "text/x-python",
   "name": "python",
   "nbconvert_exporter": "python",
   "pygments_lexer": "ipython3",
   "version": "3.11.2"
  }
 },
 "nbformat": 4,
 "nbformat_minor": 2
}
